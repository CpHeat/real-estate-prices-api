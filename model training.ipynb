{
 "cells": [
  {
   "cell_type": "code",
   "execution_count": 1,
   "id": "fd1fea10",
   "metadata": {},
   "outputs": [],
   "source": [
    "from xgboost import XGBRegressor\n",
    "from sklearn.ensemble import RandomForestRegressor\n",
    "from sklearn.linear_model import LinearRegression\n",
    "from sklearn.tree import DecisionTreeRegressor\n",
    "\n",
    "from main import train_model\n",
    "from classes.model import Model\n",
    "from classes.data_handler import DataHandler, Filter\n",
    "from classes.results_handler import ResultsHandler"
   ]
  },
  {
   "cell_type": "markdown",
   "id": "3ace5a68",
   "metadata": {},
   "source": [
    "### **PHASE 1**\n",
    "\n",
    "#### 1. **Charger les données pour Lille** depuis le fichier `data/ValeursFoncieres-2022.csv`\n",
    "#### 2. **Filtrer les biens de 4 pièces uniquement** : `Nombre pieces principales == 4`\n",
    "#### 3. **Créer deux jeux de données distincts** :\n",
    "    - Un jeu avec uniquement les **appartements**\n",
    "    - Un jeu avec uniquement les **maisons**\n",
    "#### 4. **Pour chaque jeu, ne conservez que les colonnes suivantes** :\n",
    "    - `Surface reelle bati`\n",
    "    - `Nombre pieces principales`\n",
    "    - `Type local`\n",
    "    - `Surface terrain` (si disponible)\n",
    "    - `Nombre de lots`\n",
    "    - `Valeur fonciere` (pour calculer le `prix_m2`)"
   ]
  },
  {
   "cell_type": "code",
   "execution_count": 2,
   "id": "30bf1fee",
   "metadata": {},
   "outputs": [
    {
     "name": "stdout",
     "output_type": "stream",
     "text": [
      "Data extracted\n",
      "Data extracted\n"
     ]
    },
    {
     "data": {
      "text/html": [
       "<div>\n",
       "<style scoped>\n",
       "    .dataframe tbody tr th:only-of-type {\n",
       "        vertical-align: middle;\n",
       "    }\n",
       "\n",
       "    .dataframe tbody tr th {\n",
       "        vertical-align: top;\n",
       "    }\n",
       "\n",
       "    .dataframe thead th {\n",
       "        text-align: right;\n",
       "    }\n",
       "</style>\n",
       "<table border=\"1\" class=\"dataframe\">\n",
       "  <thead>\n",
       "    <tr style=\"text-align: right;\">\n",
       "      <th></th>\n",
       "      <th>Surface reelle bati</th>\n",
       "      <th>Nombre pieces principales</th>\n",
       "      <th>Type local</th>\n",
       "      <th>Surface terrain</th>\n",
       "      <th>Nombre de lots</th>\n",
       "      <th>Valeur fonciere</th>\n",
       "    </tr>\n",
       "  </thead>\n",
       "  <tbody>\n",
       "    <tr>\n",
       "      <th>2685806</th>\n",
       "      <td>165.0</td>\n",
       "      <td>4.0</td>\n",
       "      <td>Maison</td>\n",
       "      <td>121.0</td>\n",
       "      <td>0</td>\n",
       "      <td>305000,00</td>\n",
       "    </tr>\n",
       "    <tr>\n",
       "      <th>2685934</th>\n",
       "      <td>64.0</td>\n",
       "      <td>4.0</td>\n",
       "      <td>Maison</td>\n",
       "      <td>127.0</td>\n",
       "      <td>0</td>\n",
       "      <td>226900,00</td>\n",
       "    </tr>\n",
       "    <tr>\n",
       "      <th>2686633</th>\n",
       "      <td>70.0</td>\n",
       "      <td>4.0</td>\n",
       "      <td>Maison</td>\n",
       "      <td>192.0</td>\n",
       "      <td>0</td>\n",
       "      <td>205890,00</td>\n",
       "    </tr>\n",
       "    <tr>\n",
       "      <th>2686700</th>\n",
       "      <td>62.0</td>\n",
       "      <td>4.0</td>\n",
       "      <td>Maison</td>\n",
       "      <td>96.0</td>\n",
       "      <td>0</td>\n",
       "      <td>159500,00</td>\n",
       "    </tr>\n",
       "    <tr>\n",
       "      <th>2686810</th>\n",
       "      <td>72.0</td>\n",
       "      <td>4.0</td>\n",
       "      <td>Maison</td>\n",
       "      <td>135.0</td>\n",
       "      <td>0</td>\n",
       "      <td>259900,00</td>\n",
       "    </tr>\n",
       "  </tbody>\n",
       "</table>\n",
       "</div>"
      ],
      "text/plain": [
       "         Surface reelle bati  Nombre pieces principales Type local  \\\n",
       "2685806                165.0                        4.0     Maison   \n",
       "2685934                 64.0                        4.0     Maison   \n",
       "2686633                 70.0                        4.0     Maison   \n",
       "2686700                 62.0                        4.0     Maison   \n",
       "2686810                 72.0                        4.0     Maison   \n",
       "\n",
       "         Surface terrain  Nombre de lots Valeur fonciere  \n",
       "2685806            121.0               0       305000,00  \n",
       "2685934            127.0               0       226900,00  \n",
       "2686633            192.0               0       205890,00  \n",
       "2686700             96.0               0       159500,00  \n",
       "2686810            135.0               0       259900,00  "
      ]
     },
     "execution_count": 2,
     "metadata": {},
     "output_type": "execute_result"
    }
   ],
   "source": [
    "filters_apartments = [\n",
    "    Filter('Commune', '==', \"lille\"),\n",
    "    Filter('Type local', '==', \"appartement\"),\n",
    "    Filter('Nature mutation', '==', 'vente'),\n",
    "    Filter('Valeur fonciere', 'notnull', None),\n",
    "    Filter('Surface reelle bati', 'notnull', None),\n",
    "    Filter('Nombre pieces principales', '==', 4),\n",
    "]\n",
    "\n",
    "filters_houses = [\n",
    "    Filter('Commune', '==', \"lille\"),\n",
    "    Filter('Type local', '==', \"maison\"),\n",
    "    Filter('Nature mutation', '==', 'vente'),\n",
    "    Filter('Valeur fonciere', 'notnull', None),\n",
    "    Filter('Surface reelle bati', 'notnull', None),\n",
    "    Filter('Nombre pieces principales', '==', 4),\n",
    "]\n",
    "\n",
    "df_apartments = DataHandler.extract_data(\"data/ValeursFoncieres-2022.txt\", filters_apartments)\n",
    "df_apartments = df_apartments[[\"Surface reelle bati\", \"Nombre pieces principales\", \"Type local\", \"Nombre de lots\", \"Valeur fonciere\"]]\n",
    "df_houses = DataHandler.extract_data(\"data/ValeursFoncieres-2022.txt\", filters_houses)\n",
    "df_houses = df_houses[[\"Surface reelle bati\", \"Nombre pieces principales\", \"Type local\", \"Surface terrain\", \"Nombre de lots\", \"Valeur fonciere\"]]\n",
    "\n",
    "df_houses.head()"
   ]
  },
  {
   "cell_type": "markdown",
   "id": "4fa7f862",
   "metadata": {},
   "source": [
    "#### 5. **Créer la variable cible** :\n",
    "    \n",
    "    ```python\n",
    "    prix_m2 = Valeur fonciere / Surface reelle bati\n",
    "    ```    \n",
    "#### 6. **Nettoyer les données** :\n",
    "    - Supprimer les lignes avec valeurs manquantes sur les colonnes utilisées\n",
    "    - Identifier et retirer les valeurs aberrantes (prix au m² trop faible ou trop élevé)"
   ]
  },
  {
   "cell_type": "code",
   "execution_count": 3,
   "id": "bd10a6e8",
   "metadata": {},
   "outputs": [
    {
     "name": "stdout",
     "output_type": "stream",
     "text": [
      "Data converted\n",
      "Dataset upgraded!\n",
      "Data cleaned\n",
      "Data converted\n",
      "Dataset upgraded!\n",
      "Data cleaned\n"
     ]
    },
    {
     "data": {
      "text/html": [
       "<div>\n",
       "<style scoped>\n",
       "    .dataframe tbody tr th:only-of-type {\n",
       "        vertical-align: middle;\n",
       "    }\n",
       "\n",
       "    .dataframe tbody tr th {\n",
       "        vertical-align: top;\n",
       "    }\n",
       "\n",
       "    .dataframe thead th {\n",
       "        text-align: right;\n",
       "    }\n",
       "</style>\n",
       "<table border=\"1\" class=\"dataframe\">\n",
       "  <thead>\n",
       "    <tr style=\"text-align: right;\">\n",
       "      <th></th>\n",
       "      <th>Surface reelle bati</th>\n",
       "      <th>Nombre pieces principales</th>\n",
       "      <th>Type local</th>\n",
       "      <th>Surface terrain</th>\n",
       "      <th>Nombre de lots</th>\n",
       "      <th>Valeur fonciere</th>\n",
       "      <th>prix_m2</th>\n",
       "    </tr>\n",
       "  </thead>\n",
       "  <tbody>\n",
       "    <tr>\n",
       "      <th>2685806</th>\n",
       "      <td>165.0</td>\n",
       "      <td>4.0</td>\n",
       "      <td>Maison</td>\n",
       "      <td>121.0</td>\n",
       "      <td>0</td>\n",
       "      <td>305000,00</td>\n",
       "      <td>1848.484848</td>\n",
       "    </tr>\n",
       "    <tr>\n",
       "      <th>2685934</th>\n",
       "      <td>64.0</td>\n",
       "      <td>4.0</td>\n",
       "      <td>Maison</td>\n",
       "      <td>127.0</td>\n",
       "      <td>0</td>\n",
       "      <td>226900,00</td>\n",
       "      <td>3545.312500</td>\n",
       "    </tr>\n",
       "    <tr>\n",
       "      <th>2686633</th>\n",
       "      <td>70.0</td>\n",
       "      <td>4.0</td>\n",
       "      <td>Maison</td>\n",
       "      <td>192.0</td>\n",
       "      <td>0</td>\n",
       "      <td>205890,00</td>\n",
       "      <td>2941.285714</td>\n",
       "    </tr>\n",
       "    <tr>\n",
       "      <th>2686700</th>\n",
       "      <td>62.0</td>\n",
       "      <td>4.0</td>\n",
       "      <td>Maison</td>\n",
       "      <td>96.0</td>\n",
       "      <td>0</td>\n",
       "      <td>159500,00</td>\n",
       "      <td>2572.580645</td>\n",
       "    </tr>\n",
       "    <tr>\n",
       "      <th>2686810</th>\n",
       "      <td>72.0</td>\n",
       "      <td>4.0</td>\n",
       "      <td>Maison</td>\n",
       "      <td>135.0</td>\n",
       "      <td>0</td>\n",
       "      <td>259900,00</td>\n",
       "      <td>3609.722222</td>\n",
       "    </tr>\n",
       "  </tbody>\n",
       "</table>\n",
       "</div>"
      ],
      "text/plain": [
       "         Surface reelle bati  Nombre pieces principales Type local  \\\n",
       "2685806                165.0                        4.0     Maison   \n",
       "2685934                 64.0                        4.0     Maison   \n",
       "2686633                 70.0                        4.0     Maison   \n",
       "2686700                 62.0                        4.0     Maison   \n",
       "2686810                 72.0                        4.0     Maison   \n",
       "\n",
       "         Surface terrain  Nombre de lots Valeur fonciere      prix_m2  \n",
       "2685806            121.0               0       305000,00  1848.484848  \n",
       "2685934            127.0               0       226900,00  3545.312500  \n",
       "2686633            192.0               0       205890,00  2941.285714  \n",
       "2686700             96.0               0       159500,00  2572.580645  \n",
       "2686810            135.0               0       259900,00  3609.722222  "
      ]
     },
     "execution_count": 3,
     "metadata": {},
     "output_type": "execute_result"
    }
   ],
   "source": [
    "df_apartments = DataHandler.add_data(df_apartments)\n",
    "df_apartments = DataHandler.clean_data(df_apartments)\n",
    "\n",
    "df_houses = DataHandler.add_data(df_houses)\n",
    "df_houses = DataHandler.clean_data(df_houses)\n",
    "\n",
    "df_houses.head()"
   ]
  },
  {
   "cell_type": "markdown",
   "id": "e2ea32b4",
   "metadata": {},
   "source": [
    "#### **7. Préparer les données pour l'entraînement**\n",
    "\n",
    "- Variables explicatives : `X`\n",
    "- Variable cible : `y = prix_m2`\n",
    "- Division en jeu d'entraînement (80%) et test (20%) avec `train_test_split`"
   ]
  },
  {
   "cell_type": "code",
   "execution_count": 4,
   "id": "05dfe4e3",
   "metadata": {},
   "outputs": [],
   "source": [
    "model_apartments = Model(df_apartments)\n",
    "model_houses = Model(df_houses)\n",
    "\n",
    "model_apartments.clean_outliers(\"prix_m2\")\n",
    "model_houses.clean_outliers(\"prix_m2\")\n",
    "\n",
    "model_apartments.set_data([\"Surface reelle bati\", \"Nombre pieces principales\", \"Nombre de lots\"])\n",
    "model_houses.set_data([\"Surface reelle bati\", \"Surface terrain\", \"Nombre pieces principales\", \"Nombre de lots\"])"
   ]
  },
  {
   "cell_type": "markdown",
   "id": "3667e920",
   "metadata": {},
   "source": [
    "#### **8. Entraîner les modèles de base avec `scikit-learn`**\n",
    "\n",
    "- `LinearRegression`\n",
    "- `DecisionTreeRegressor`\n",
    "- `RandomForestRegressor`"
   ]
  },
  {
   "cell_type": "code",
   "execution_count": 5,
   "id": "1949fa96",
   "metadata": {},
   "outputs": [],
   "source": [
    "model_apartments_linear = model_apartments.train_model(LinearRegression)\n",
    "model_apartments_decision_tree = model_apartments.train_model(DecisionTreeRegressor)\n",
    "model_apartments_rendom_forest = model_apartments.train_model(RandomForestRegressor)\n",
    "\n",
    "model_houses_linear = model_houses.train_model(LinearRegression)\n",
    "model_houses_decision_tree = model_houses.train_model(DecisionTreeRegressor)\n",
    "model_houses_random_forest = model_houses.train_model(RandomForestRegressor)"
   ]
  },
  {
   "cell_type": "markdown",
   "id": "0e176e07",
   "metadata": {},
   "source": [
    "#### **9. Optimiser les modèles d’arbres avec `GridSearchCV`**\n",
    "\n",
    "- Appliquer une recherche d’hyperparamètres sur les arbres pour améliorer les résultats\n",
    "\n",
    "#### **10. Ajouter un modèle moderne : `XGBRegressor`**"
   ]
  },
  {
   "cell_type": "code",
   "execution_count": 6,
   "id": "b320a43a",
   "metadata": {},
   "outputs": [
    {
     "name": "stdout",
     "output_type": "stream",
     "text": [
      "Fitting 5 folds for each of 144 candidates, totalling 720 fits\n",
      "Best parameters: {'max_depth': 1, 'max_features': None, 'min_samples_leaf': 1, 'min_samples_split': 3, 'min_weight_fraction_leaf': 0, 'splitter': 'random'}\n",
      "Fitting 5 folds for each of 144 candidates, totalling 720 fits\n",
      "Best parameters: {'max_depth': 2, 'max_features': None, 'min_samples_leaf': 1, 'min_samples_split': 2, 'min_weight_fraction_leaf': 0, 'splitter': 'random'}\n"
     ]
    }
   ],
   "source": [
    "evaluation_results = {}\n",
    "\n",
    "decision_tree_optimized_results = train_model(\n",
    "    [\"lille\"],\n",
    "    [\"maison\", \"appartement\"],\n",
    "    DecisionTreeRegressor,\n",
    "    {\n",
    "        \"splitter\": [\"best\", \"random\"],\n",
    "        \"max_depth\": [None, 1, 2],\n",
    "        \"min_samples_split\": [2, 3],\n",
    "        \"min_samples_leaf\": [1, 2],\n",
    "        \"min_weight_fraction_leaf\": [0, 0.5],\n",
    "        \"max_features\": [None, 2, 5]\n",
    "    }\n",
    ")\n",
    "\n",
    "evaluation_results['DecisionTreeOptimized'] = decision_tree_optimized_results['results']"
   ]
  },
  {
   "cell_type": "code",
   "execution_count": 7,
   "id": "a67f2302",
   "metadata": {},
   "outputs": [
    {
     "name": "stdout",
     "output_type": "stream",
     "text": [
      "Fitting 5 folds for each of 216 candidates, totalling 1080 fits\n",
      "Best parameters: {'max_depth': 1, 'max_features': 5, 'min_samples_leaf': 2, 'min_samples_split': 2, 'min_weight_fraction_leaf': 0.5, 'n_estimators': 100}\n",
      "Fitting 5 folds for each of 216 candidates, totalling 1080 fits\n",
      "Best parameters: {'max_depth': 1, 'max_features': 1.0, 'min_samples_leaf': 2, 'min_samples_split': 2, 'min_weight_fraction_leaf': 0, 'n_estimators': 100}\n"
     ]
    }
   ],
   "source": [
    "random_forest_optimized_results = train_model(\n",
    "    [\"lille\"],\n",
    "    [\"maison\", \"appartement\"],\n",
    "    RandomForestRegressor,\n",
    "    {\n",
    "        \"n_estimators\": [100, 75, 125],\n",
    "        \"max_depth\": [None, 1, 2],\n",
    "        \"min_samples_split\": [2, 3],\n",
    "        \"min_samples_leaf\": [1, 2],\n",
    "        \"min_weight_fraction_leaf\": [0, 0.5],\n",
    "        \"max_features\": [1.0, 2, 5]\n",
    "    }\n",
    ")\n",
    "\n",
    "evaluation_results['RandomForestOptimized'] = random_forest_optimized_results['results']"
   ]
  },
  {
   "cell_type": "code",
   "execution_count": 8,
   "id": "8e73d73a",
   "metadata": {},
   "outputs": [
    {
     "name": "stdout",
     "output_type": "stream",
     "text": [
      "Fitting 5 folds for each of 4096 candidates, totalling 20480 fits\n",
      "Best parameters: {'colsample_bylevel': 1, 'colsample_bynode': 1, 'colsample_bytree': 1, 'gamma': 1, 'learning_rate': 0.1, 'max_delta_step': 1, 'max_depth': 7, 'min_child_weight': 5, 'n_estimators': 10, 'reg_alpha': 1, 'reg_lambda': 1, 'sampling_method': 'uniform', 'subsample': 0.5}\n",
      "Fitting 5 folds for each of 4096 candidates, totalling 20480 fits\n",
      "Best parameters: {'colsample_bylevel': 0.5, 'colsample_bynode': 1, 'colsample_bytree': 1, 'gamma': 2, 'learning_rate': 0.2, 'max_delta_step': 0, 'max_depth': 6, 'min_child_weight': 6, 'n_estimators': 20, 'reg_alpha': 1, 'reg_lambda': 2, 'sampling_method': 'uniform', 'subsample': 0.5}\n"
     ]
    }
   ],
   "source": [
    "xgboost_optimized_results = train_model(\n",
    "    [\"lille\"],\n",
    "    [\"maison\", \"appartement\"],\n",
    "    XGBRegressor,\n",
    "    {\n",
    "        'learning_rate': [0.1, 0.2],\n",
    "        'gamma': [1, 2],\n",
    "        'max_depth': [6, 7],\n",
    "        'min_child_weight': [5, 6],\n",
    "        'max_delta_step': [0, 1],\n",
    "        'subsample': [0.5, 1],\n",
    "        'sampling_method': ['uniform'],\n",
    "        'colsample_bytree': [1, 0.5],\n",
    "        'colsample_bylevel': [1, 0.5],\n",
    "        'colsample_bynode': [1, 0.5],\n",
    "        'reg_lambda': [1, 2],\n",
    "        'reg_alpha': [0.5, 1],\n",
    "        'n_estimators': [10, 20]\n",
    "    }\n",
    ")\n",
    "\n",
    "evaluation_results['XGBoostOptimized'] = xgboost_optimized_results['results']"
   ]
  },
  {
   "cell_type": "markdown",
   "id": "97cbebf3",
   "metadata": {},
   "source": [
    "#### **11. Évaluer les performances de tous les modèles**\n",
    "\n",
    "- Utiliser la métrique **MSE** (`mean_squared_error`)\n",
    "- Comparer les performances de tous les modèles testés\n",
    "- Afficher un **tableau comparatif clair** pour :\n",
    "    - les **appartements**\n",
    "    - les **maisons**"
   ]
  },
  {
   "cell_type": "code",
   "execution_count": 9,
   "id": "8ce26a6e",
   "metadata": {},
   "outputs": [
    {
     "name": "stdout",
     "output_type": "stream",
     "text": [
      "model_name: DecisionTreeOptimized\n",
      "model_name: RandomForestOptimized\n",
      "model_name: XGBoostOptimized\n",
      "                Model  City        Type  R² Train  R² Test  MSE Train  MSE Test  RMSE Train  RMSE Test  MAE Train  MAE Test\n",
      "DecisionTreeOptimized Lille      maison    0.0162  -0.0433     0.9838    0.9416      0.9919     0.9703     0.7913    0.7204\n",
      "DecisionTreeOptimized Lille appartement    0.0129  -0.0118     0.9871    1.0231      0.9935     1.0115     0.7950    0.8336\n",
      "RandomForestOptimized Lille      maison    0.0281  -0.0508     0.9719    0.9483      0.9859     0.9738     0.7854    0.7188\n",
      "RandomForestOptimized Lille appartement    0.0781   0.0944     0.9219    0.9158      0.9601     0.9570     0.7680    0.7852\n",
      "     XGBoostOptimized Lille      maison    0.1526  -0.0406     0.8474    0.9391      0.9206     0.9691     0.7142    0.7127\n",
      "     XGBoostOptimized Lille appartement    0.0654   0.0756     0.9346    0.9347      0.9667     0.9668     0.7773    0.8013\n"
     ]
    }
   ],
   "source": [
    "ResultsHandler.show_metrics_comparison(evaluation_results)"
   ]
  },
  {
   "cell_type": "markdown",
   "id": "a373230e",
   "metadata": {},
   "source": [
    "Le modèle retenu pour les appartements selon les résultats MSE est le RandomForest\n",
    "Le modèle retenu pour les maisons selon les résultats MSE est le XGBoost"
   ]
  },
  {
   "cell_type": "markdown",
   "id": "1a823409",
   "metadata": {},
   "source": [
    "### **Phase 2 : Test de généralisation sur Bordeaux**\n",
    "\n",
    "#### 1. **Charger les données de Bordeaux** depuis le fichier `data/bordeaux_2022.csv`.\n",
    "#### 2. **Appliquer exactement le même filtrage que pour Lille.**\n",
    "#### 3. **Séparer les logements en deux catégories** :\n",
    "    - **Appartements**\n",
    "    - **Maisons**\n",
    "#### 4. **Pour chaque catégorie, effectuer les mêmes préparations que dans la phase 1** :\n",
    "    - Calculer `prix_m2 = Valeur fonciere / Surface reelle bati`\n",
    "    - Conserver uniquement les colonnes suivantes :\n",
    "        - `Surface reelle bati`\n",
    "        - `Nombre pieces principales`\n",
    "        - `Type local`\n",
    "        - `Surface terrain`\n",
    "        - `Nombre de lots`\n",
    "    - Nettoyage des données (valeurs manquantes, outliers)"
   ]
  },
  {
   "cell_type": "code",
   "execution_count": null,
   "id": "6d1da211",
   "metadata": {},
   "outputs": [],
   "source": [
    "filters_apartments = [\n",
    "    Filter('Commune', '==', \"bordeaux\"),\n",
    "    Filter('Type local', '==', \"appartement\"),\n",
    "    Filter('Nature mutation', '==', 'vente'),\n",
    "    Filter('Valeur fonciere', 'notnull', None),\n",
    "    Filter('Surface reelle bati', 'notnull', None),\n",
    "    Filter('Nombre pieces principales', '==', 4),\n",
    "]\n",
    "\n",
    "filters_houses = [\n",
    "    Filter('Commune', '==', \"bordeaux\"),\n",
    "    Filter('Type local', '==', \"maison\"),\n",
    "    Filter('Nature mutation', '==', 'vente'),\n",
    "    Filter('Valeur fonciere', 'notnull', None),\n",
    "    Filter('Surface reelle bati', 'notnull', None),\n",
    "    Filter('Nombre pieces principales', '==', 4),\n",
    "]\n",
    "\n",
    "df_bordeaux_apartments = DataHandler.extract_data(\"data/ValeursFoncieres-2022.txt\", filters_apartments)\n",
    "df_bordeaux_apartments = df_bordeaux_apartments[[\"Surface reelle bati\", \"Nombre pieces principales\", \"Type local\", \"Nombre de lots\", \"Valeur fonciere\"]]\n",
    "df_bordeaux_houses = DataHandler.extract_data(\"data/ValeursFoncieres-2022.txt\", filters_houses)\n",
    "df_bordeaux_houses = df_bordeaux_houses[[\"Surface reelle bati\", \"Nombre pieces principales\", \"Type local\", \"Surface terrain\", \"Nombre de lots\", \"Valeur fonciere\"]]\n",
    "\n",
    "df_bordeaux_apartments = DataHandler.add_data(df_bordeaux_apartments)\n",
    "df_bordeaux_apartments = DataHandler.clean_data(df_bordeaux_apartments)\n",
    "\n",
    "df_bordeaux_houses = DataHandler.add_data(df_bordeaux_houses)\n",
    "df_bordeaux_houses = DataHandler.clean_data(df_bordeaux_houses)\n",
    "\n",
    "df_bordeaux_houses.head()"
   ]
  },
  {
   "cell_type": "markdown",
   "id": "1c61bfb5",
   "metadata": {},
   "source": [
    "#### 5. **Réutiliser les modèles entraînés sur Lille (phase 1)** :\n",
    "    - **Ne pas réentraîner les modèles**\n",
    "    - Appliquer directement les modèles (un pour les appartements, un pour les maisons)\n",
    "    - Prédire les `prix_m2` sur les données de Bordeaux\n",
    "    - Calculer la **MSE** pour chaque prédiction\n",
    "#### 6. **Comparer les performances entre Lille et Bordeaux pour chaque type de logement** :\n",
    "    - Le modèle est-il aussi performant sur Bordeaux ?\n",
    "    - Quels écarts de performance observez-vous ?\n",
    "    - Quels facteurs peuvent expliquer ces différences ?\n",
    "    - Le modèle généralise-t-il mieux sur un type de bien que sur l'autre ?"
   ]
  },
  {
   "cell_type": "code",
   "execution_count": null,
   "id": "ed1c2fcc",
   "metadata": {},
   "outputs": [
    {
     "name": "stdout",
     "output_type": "stream",
     "text": [
      "Fitting 5 folds for each of 1 candidates, totalling 5 fits\n",
      "Best parameters: {'colsample_bylevel': 1, 'colsample_bynode': 1, 'colsample_bytree': 1, 'gamma': 1, 'learning_rate': 0.1, 'max_delta_step': 1, 'max_depth': 7, 'min_child_weight': 5, 'n_estimators': 10, 'reg_alpha': 1, 'reg_lambda': 1, 'sampling_method': 'uniform', 'subsample': 0.5}\n",
      "Fitting 5 folds for each of 1 candidates, totalling 5 fits\n",
      "Best parameters: {'max_depth': 1, 'max_features': 1.0, 'min_samples_leaf': 2, 'min_samples_split': 2, 'min_weight_fraction_leaf': 0, 'n_estimators': 100}\n",
      "model_name: XGBoostOptimized\n",
      "model_name: RandomForestOptimized\n",
      "                Model  City        Type  R² Train  R² Test  R² Comparison  MSE Train  MSE Test  MSE Comparison  RMSE Train  RMSE Test  RMSE Comparison  MAE Train  MAE Test  MAE Comparison\n",
      "     XGBoostOptimized Lille      maison    0.1526  -0.0406        -3.8545     0.8474    0.9391         11.0641      0.9206     0.9691           3.3263     0.7142    0.7127          2.9950\n",
      "RandomForestOptimized Lille appartement    0.0790   0.0927        -0.4052     0.9210    0.9175          2.2927      0.9597     0.9578           1.5142     0.7679    0.7860          1.1772\n"
     ]
    }
   ],
   "source": [
    "evaluation_results = {}\n",
    "\n",
    "xgboost_optimized_results = train_model(\n",
    "    [\"lille\"],\n",
    "    [\"maison\"],\n",
    "    XGBRegressor,\n",
    "    {\n",
    "        'learning_rate': [0.1],\n",
    "        'gamma': [1],\n",
    "        'max_depth': [7],\n",
    "        'min_child_weight': [5],\n",
    "        'max_delta_step': [1],\n",
    "        'subsample': [0.5],\n",
    "        'sampling_method': ['uniform'],\n",
    "        'colsample_bytree': [1],\n",
    "        'colsample_bylevel': [1],\n",
    "        'colsample_bynode': [1],\n",
    "        'reg_lambda': [1],\n",
    "        'reg_alpha': [1],\n",
    "        'n_estimators': [10]\n",
    "    },\n",
    "    comparison_city=\"bordeaux\"\n",
    ")\n",
    "\n",
    "evaluation_results['XGBoostOptimized'] = xgboost_optimized_results['results']\n",
    "\n",
    "random_forest_optimized_results = train_model(\n",
    "    [\"lille\"],\n",
    "    [\"appartement\"],\n",
    "    RandomForestRegressor,\n",
    "    {\n",
    "        \"n_estimators\": [100],\n",
    "        \"max_depth\": [1],\n",
    "        \"min_samples_split\": [2],\n",
    "        \"min_samples_leaf\": [2],\n",
    "        \"min_weight_fraction_leaf\": [0],\n",
    "        \"max_features\": [1.0]\n",
    "    },\n",
    "    comparison_city=\"bordeaux\"\n",
    ")\n",
    "\n",
    "evaluation_results['RandomForestOptimized'] = random_forest_optimized_results['results']\n",
    "\n",
    "ResultsHandler.show_metrics_comparison(evaluation_results)"
   ]
  },
  {
   "cell_type": "markdown",
   "id": "c9c84cd7",
   "metadata": {},
   "source": [
    "Si on compare le MSE entre Lille et Bordeaux, on passe de 0.93 à 11.06 sur les maisons et 0.91 à 2.29 sur les appartements. Le modèle sous performe largement sur Bordeaux.\n",
    "Les prix de l'immobilier sont extrêmement lié à la localisation et prédire les prix d'une ville cotiêre et bourgeoise avec un outil entrainé sur une ville populaire produit forcément de grands écarts, surtout en ce qui concerne les maisons. Ces écarts sont moins flagrants en ce qui concerne les appartements, peut être parce que ceux-ci ne sont pas aussi prisés par la population aisée et en tant que résidence secondaire."
   ]
  }
 ],
 "metadata": {
  "kernelspec": {
   "display_name": ".venv",
   "language": "python",
   "name": "python3"
  },
  "language_info": {
   "codemirror_mode": {
    "name": "ipython",
    "version": 3
   },
   "file_extension": ".py",
   "mimetype": "text/x-python",
   "name": "python",
   "nbconvert_exporter": "python",
   "pygments_lexer": "ipython3",
   "version": "3.10.11"
  }
 },
 "nbformat": 4,
 "nbformat_minor": 5
}
